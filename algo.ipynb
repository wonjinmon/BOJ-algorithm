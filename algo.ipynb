{
 "cells": [
  {
   "cell_type": "code",
   "execution_count": 25,
   "id": "1abaeda3",
   "metadata": {},
   "outputs": [],
   "source": [
    "# 병합정렬\n",
    "\n",
    "def merge_sort(a):\n",
    "    n = len(a)\n",
    "    if n <= 1:\n",
    "        return a\n",
    "    \n",
    "    mid = n // 2\n",
    "    g1 = merge_sort(a[:mid])\n",
    "    g2 = merge_sort(a[mid:])\n",
    "    \n",
    "    result = []\n",
    "    while g1 and g2:\n",
    "        if g1[0] < g2[0]:\n",
    "            result.append(g1.pop(0))\n",
    "        else:\n",
    "            result.append(g2.pop(0))\n",
    "    while g1:\n",
    "        result.append(g1.pop(0))\n",
    "    while g2:\n",
    "        result.append(g2.pop(0))\n",
    "    return result"
   ]
  },
  {
   "cell_type": "code",
   "execution_count": 26,
   "id": "53748a17",
   "metadata": {},
   "outputs": [
    {
     "name": "stdout",
     "output_type": "stream",
     "text": [
      "[1, 2, 3, 4, 5, 6, 7, 8, 9, 10]\n"
     ]
    }
   ],
   "source": [
    "d = [6,8,3,9,10,1,2,4,7,5]\n",
    "print(merge_sort(d))"
   ]
  },
  {
   "cell_type": "code",
   "execution_count": 32,
   "id": "105e582c",
   "metadata": {},
   "outputs": [
    {
     "name": "stdout",
     "output_type": "stream",
     "text": [
      "[1, 2, 3, 4, 5, 6, 7, 8, 9, 10]\n"
     ]
    }
   ],
   "source": [
    "def merge_sort(a):\n",
    "    n =len(a)\n",
    "    if n<= 1:\n",
    "        return \n",
    "    \n",
    "    mid = n // 2\n",
    "    g1 = a[:mid]\n",
    "    g2 = a[mid:]\n",
    "    \n",
    "    merge_sort(g1)\n",
    "    merge_sort(g2)\n",
    "    \n",
    "    i1 = 0\n",
    "    i2 = 0\n",
    "    ia = 0\n",
    "    while i1 < len(g1) and i2 <len(g2):\n",
    "        if g1[i1] < g2[i2]:\n",
    "            a[ia] = g1[i1]\n",
    "            i1 += 1\n",
    "            ia += 1\n",
    "        else:\n",
    "            a[ia] = g2[i2]\n",
    "            i2 += 1\n",
    "            ia += 1\n",
    "            \n",
    "    while i1 < len(g1):\n",
    "        a[ia] = g1[i1]\n",
    "        i1 += 1\n",
    "        ia += 1\n",
    "    while i2 < len(g2):\n",
    "        a[ia] = g2[i2]\n",
    "        i2 += 1\n",
    "        ia += 1\n",
    "        \n",
    "d = [6,8,3,9,10,1,2,4,7,5]\n",
    "merge_sort(d)\n",
    "print(d)"
   ]
  },
  {
   "cell_type": "code",
   "execution_count": 27,
   "id": "af4f99b5",
   "metadata": {},
   "outputs": [],
   "source": [
    "from collections import Counter"
   ]
  },
  {
   "cell_type": "code",
   "execution_count": 16,
   "id": "8c457dc8",
   "metadata": {},
   "outputs": [],
   "source": [
    "# 09시 30분 - 45분 = 08시 45분"
   ]
  },
  {
   "cell_type": "code",
   "execution_count": 21,
   "id": "90333561",
   "metadata": {},
   "outputs": [
    {
     "name": "stdout",
     "output_type": "stream",
     "text": [
      "9 30\n",
      "8 45\n"
     ]
    }
   ],
   "source": [
    "h, m = map(int, input().split()) \n",
    "print(h,m)\n",
    "\n",
    "if (m-45) < 0:\n",
    "    m = (m-45) + 60\n",
    "    h -= 1\n",
    "    if h == 0:\n",
    "        h = 23\n",
    "print(h,m)"
   ]
  },
  {
   "cell_type": "code",
   "execution_count": 30,
   "id": "d7e80f05",
   "metadata": {},
   "outputs": [
    {
     "name": "stdout",
     "output_type": "stream",
     "text": [
      "0 55\n",
      "0 10\n"
     ]
    }
   ],
   "source": [
    "h, m = map(int, input().split()) \n",
    "print(h,m)\n",
    "\n",
    "if (m-45) < 0:\n",
    "    m = (m-45) + 60\n",
    "    h -= 1\n",
    "    if h == -1:\n",
    "        h = 23\n",
    "else:\n",
    "    m = m- 45\n",
    "print(h,m)"
   ]
  },
  {
   "cell_type": "code",
   "execution_count": 32,
   "id": "ea93fd9e",
   "metadata": {},
   "outputs": [
    {
     "data": {
      "text/plain": [
       "11"
      ]
     },
     "execution_count": 32,
     "metadata": {},
     "output_type": "execute_result"
    }
   ],
   "source": [
    "11 % 24"
   ]
  },
  {
   "cell_type": "code",
   "execution_count": 5,
   "id": "bcaace1a",
   "metadata": {},
   "outputs": [
    {
     "name": "stdout",
     "output_type": "stream",
     "text": [
      "bbbqqqaa\n",
      "BBBQQQAA\n"
     ]
    }
   ],
   "source": [
    "a = input()\n",
    "print(a)\n",
    "a = a.upper()\n",
    "print(a)"
   ]
  },
  {
   "cell_type": "code",
   "execution_count": 7,
   "id": "9ca8e3fa",
   "metadata": {},
   "outputs": [
    {
     "name": "stdout",
     "output_type": "stream",
     "text": [
      "Q\n"
     ]
    }
   ],
   "source": [
    "a = input()\n",
    "a = a.upper()\n",
    "b = list(set(a))\n",
    "list1= []\n",
    "\n",
    "for i in b:\n",
    "    cnt = a.count(i)\n",
    "    list1.append(cnt)\n",
    "\n",
    "if list1.count(max(list1)) >=2:\n",
    "    print('?')\n",
    "else:\n",
    "    print(b[list1.index(max(list1))])\n",
    "\n",
    "\n",
    "\n"
   ]
  },
  {
   "cell_type": "code",
   "execution_count": 20,
   "id": "3cc1447b",
   "metadata": {},
   "outputs": [
    {
     "name": "stdout",
     "output_type": "stream",
     "text": [
      "wrong\n",
      "right\n",
      "wrong\n"
     ]
    },
    {
     "ename": "ValueError",
     "evalue": "invalid literal for int() with base 10: 'x'",
     "output_type": "error",
     "traceback": [
      "\u001b[1;31m---------------------------------------------------------------------------\u001b[0m",
      "\u001b[1;31mValueError\u001b[0m                                Traceback (most recent call last)",
      "\u001b[1;32mc:\\Users\\HONG\\Documents\\Lab\\algo.ipynb Cell 17\u001b[0m in \u001b[0;36m<cell line: 1>\u001b[1;34m()\u001b[0m\n\u001b[0;32m      <a href='vscode-notebook-cell:/c%3A/Users/HONG/Documents/Lab/algo.ipynb#X22sZmlsZQ%3D%3D?line=0'>1</a>\u001b[0m \u001b[39mwhile\u001b[39;00m \u001b[39mTrue\u001b[39;00m:\n\u001b[1;32m----> <a href='vscode-notebook-cell:/c%3A/Users/HONG/Documents/Lab/algo.ipynb#X22sZmlsZQ%3D%3D?line=1'>2</a>\u001b[0m     a,b,c \u001b[39m=\u001b[39m \u001b[39mmap\u001b[39m(\u001b[39mint\u001b[39m,\u001b[39minput\u001b[39m()\u001b[39m.\u001b[39msplit())\n\u001b[0;32m      <a href='vscode-notebook-cell:/c%3A/Users/HONG/Documents/Lab/algo.ipynb#X22sZmlsZQ%3D%3D?line=2'>3</a>\u001b[0m     \u001b[39mif\u001b[39;00m (a\u001b[39m*\u001b[39m\u001b[39m*\u001b[39m\u001b[39m2\u001b[39m) \u001b[39m+\u001b[39m (b\u001b[39m*\u001b[39m\u001b[39m*\u001b[39m\u001b[39m2\u001b[39m) \u001b[39m==\u001b[39m (c\u001b[39m*\u001b[39m\u001b[39m*\u001b[39m\u001b[39m2\u001b[39m) :\n\u001b[0;32m      <a href='vscode-notebook-cell:/c%3A/Users/HONG/Documents/Lab/algo.ipynb#X22sZmlsZQ%3D%3D?line=3'>4</a>\u001b[0m         \u001b[39mprint\u001b[39m(\u001b[39m'\u001b[39m\u001b[39mright\u001b[39m\u001b[39m'\u001b[39m)\n",
      "\u001b[1;31mValueError\u001b[0m: invalid literal for int() with base 10: 'x'"
     ]
    }
   ],
   "source": [
    "while True:\n",
    "    a,b,c = map(int,input().split())\n",
    "    if (a**2) + (b**2) == (c**2) :\n",
    "        print('right')\n",
    "    else:\n",
    "        print('wrong')"
   ]
  },
  {
   "cell_type": "code",
   "execution_count": 37,
   "id": "bd845902",
   "metadata": {},
   "outputs": [
    {
     "name": "stdout",
     "output_type": "stream",
     "text": [
      "2\n"
     ]
    }
   ],
   "source": [
    "a = 3\n",
    "b = 2\n",
    "print(a  b)"
   ]
  },
  {
   "cell_type": "code",
   "execution_count": null,
   "id": "c265c4be",
   "metadata": {},
   "outputs": [],
   "source": [
    "# 1 = 1         #0\n",
    "# 2 ~ 7 = 2     #6\n",
    "# 8 ~ 19 = 3    #12\n",
    "# 20 ~ 37 = 4   #18\n",
    "# 38 ~ 61 = 5   #24\n",
    "# 62 ~ 97 = 6\n",
    "\n",
    "# 계차수열"
   ]
  },
  {
   "cell_type": "code",
   "execution_count": 9,
   "id": "08efe67b",
   "metadata": {},
   "outputs": [
    {
     "name": "stdout",
     "output_type": "stream",
     "text": [
      "2\n"
     ]
    }
   ],
   "source": [
    "a = int(input())\n",
    "\n",
    "n = 1\n",
    "cnt = 1\n",
    "\n",
    "while a > n:\n",
    "    n += 6 * cnt\n",
    "    cnt += 1\n",
    "print(cnt)"
   ]
  },
  {
   "cell_type": "code",
   "execution_count": 174,
   "id": "41b9fa06",
   "metadata": {},
   "outputs": [
    {
     "name": "stdout",
     "output_type": "stream",
     "text": [
      "cheng: 4\n",
      "ho: 010\n",
      "4010\n"
     ]
    }
   ],
   "source": [
    "t = int(input())\n",
    "\n",
    "for _ in range(t):\n",
    "    h,w,n = map(int, input().split())\n",
    "\n",
    "    cheng = n % h\n",
    "    if cheng == 0:\n",
    "        cheng = str(h)\n",
    "    print(f'cheng: {cheng}')\n",
    "    \n",
    "    if (n % h) == 0:\n",
    "        ho = (n // h)\n",
    "        if ho < 10:\n",
    "            ho = str(0) + str(ho)\n",
    "        else:\n",
    "            ho\n",
    "    else:\n",
    "        ho = (n // h)\n",
    "        if ho < 10:\n",
    "            ho = str(0) + str(ho+1)\n",
    "        else:\n",
    "            ho\n",
    "    print(f'ho: {ho}')\n",
    "\n",
    "    result = str(cheng) + str(ho)\n",
    "    print(result)"
   ]
  },
  {
   "cell_type": "code",
   "execution_count": 171,
   "id": "ab05005c",
   "metadata": {},
   "outputs": [
    {
     "name": "stdout",
     "output_type": "stream",
     "text": [
      "9\n",
      "4\n"
     ]
    }
   ],
   "source": [
    "print(58 // 6)\n",
    "print(10 % 6)"
   ]
  },
  {
   "cell_type": "code",
   "execution_count": 86,
   "id": "b16e17a6",
   "metadata": {},
   "outputs": [],
   "source": [
    "cheng = n % h\n",
    "if cheng == 0:\n",
    "    chenh =h"
   ]
  },
  {
   "cell_type": "code",
   "execution_count": 39,
   "id": "0f4f1842",
   "metadata": {},
   "outputs": [
    {
     "data": {
      "text/plain": [
       "'1203'"
      ]
     },
     "execution_count": 39,
     "metadata": {},
     "output_type": "execute_result"
    }
   ],
   "source": [
    "str(cheng) + str(ho)"
   ]
  },
  {
   "cell_type": "code",
   "execution_count": 177,
   "id": "6395dc95",
   "metadata": {},
   "outputs": [
    {
     "name": "stdout",
     "output_type": "stream",
     "text": [
      "402\n"
     ]
    }
   ],
   "source": [
    "t = int(input())\n",
    "\n",
    "for _ in range(t):\n",
    "    h,w,n = map(int, input().split())\n",
    "\n",
    "    cng = n % h\n",
    "    ho = n // h + 1\n",
    "\n",
    "    if n % h == 0:\n",
    "        cng = h\n",
    "        ho = n // h\n",
    "\n",
    "    print(cng*100 + ho)"
   ]
  },
  {
   "cell_type": "code",
   "execution_count": 7,
   "id": "b7741eee",
   "metadata": {},
   "outputs": [
    {
     "name": "stdout",
     "output_type": "stream",
     "text": [
      "*****\n",
      "****\n",
      "***\n",
      "**\n",
      "*\n"
     ]
    }
   ],
   "source": [
    "a = int(input())\n",
    "\n",
    "for i in reversed(range(1,a+1)):\n",
    "    print(i * '*')"
   ]
  },
  {
   "cell_type": "code",
   "execution_count": 20,
   "id": "aa4993ff",
   "metadata": {},
   "outputs": [
    {
     "name": "stdout",
     "output_type": "stream",
     "text": [
      "3\n",
      "43\n"
     ]
    }
   ],
   "source": [
    "q=0\n",
    "for _ in range(4):\n",
    "    a= int(input())\n",
    "    q += a\n",
    "print(q // 60)\n",
    "print(q % 60)\n"
   ]
  },
  {
   "cell_type": "code",
   "execution_count": 19,
   "id": "fed87788",
   "metadata": {},
   "outputs": [
    {
     "name": "stdout",
     "output_type": "stream",
     "text": [
      "1\n"
     ]
    },
    {
     "data": {
      "text/plain": [
       "0"
      ]
     },
     "execution_count": 19,
     "metadata": {},
     "output_type": "execute_result"
    }
   ],
   "source": [
    "print(60 // 60)\n",
    "60 % 60\n"
   ]
  },
  {
   "cell_type": "code",
   "execution_count": 29,
   "id": "6f6e359f",
   "metadata": {},
   "outputs": [
    {
     "name": "stdout",
     "output_type": "stream",
     "text": [
      "26\n"
     ]
    }
   ],
   "source": [
    "n = int(input())\n",
    "print(n)"
   ]
  },
  {
   "cell_type": "code",
   "execution_count": 30,
   "id": "0e9f1247",
   "metadata": {},
   "outputs": [
    {
     "name": "stdout",
     "output_type": "stream",
     "text": [
      "2\n",
      "6\n",
      "8\n",
      "68\n"
     ]
    }
   ],
   "source": [
    "a= (n //10)\n",
    "print(a)\n",
    "b= (n%10)\n",
    "print(b)\n",
    "c = ((a+b) % 10)\n",
    "print(c)\n",
    "\n",
    "d = b*10 + c\n",
    "print(d)"
   ]
  },
  {
   "cell_type": "code",
   "execution_count": 31,
   "id": "fc17b941",
   "metadata": {},
   "outputs": [
    {
     "data": {
      "text/plain": [
       "8"
      ]
     },
     "execution_count": 31,
     "metadata": {},
     "output_type": "execute_result"
    }
   ],
   "source": []
  },
  {
   "cell_type": "code",
   "execution_count": 42,
   "id": "05bffcf8",
   "metadata": {},
   "outputs": [
    {
     "name": "stdout",
     "output_type": "stream",
     "text": [
      "12\n"
     ]
    }
   ],
   "source": [
    "n = int(input())\n",
    "cnt = 0\n",
    "num = n\n",
    "while True:\n",
    "    a = num // 10\n",
    "    b = num % 10\n",
    "    c = (a+b) % 10\n",
    "    num = b*10 + c\n",
    "    cnt +=1\n",
    "    if n == num:\n",
    "        break\n",
    "print(cnt)"
   ]
  },
  {
   "cell_type": "code",
   "execution_count": 6,
   "id": "cb2c76aa",
   "metadata": {},
   "outputs": [
    {
     "name": "stdout",
     "output_type": "stream",
     "text": [
      "['b', 'a', 'e', 'k', 'j', 'o', 'o', 'n']\n"
     ]
    }
   ],
   "source": [
    "word = list(input())\n"
   ]
  },
  {
   "cell_type": "code",
   "execution_count": 17,
   "id": "ae9b6adf",
   "metadata": {},
   "outputs": [
    {
     "name": "stdout",
     "output_type": "stream",
     "text": [
      "0 0 0 0 1 0 0 0 0 0 0 0 0 0 0 0 1 1 0 0 0 0 1 0 0 0 "
     ]
    }
   ],
   "source": [
    "word = list(input())\n",
    "\n",
    "abc = 'abcdefghijklmnopqrstuvwxyz'\n",
    "for i in range(len(abc)):\n",
    "    print(word.count(abc[i]), end = ' ')\n"
   ]
  },
  {
   "cell_type": "code",
   "execution_count": 68,
   "id": "404fa2ed",
   "metadata": {},
   "outputs": [],
   "source": [
    "a,b = map(int, input().split())"
   ]
  },
  {
   "cell_type": "code",
   "execution_count": 83,
   "id": "2834467f",
   "metadata": {},
   "outputs": [
    {
     "name": "stdout",
     "output_type": "stream",
     "text": [
      "3\n",
      "60\n"
     ]
    }
   ],
   "source": [
    "a,b = map(int, input().split())\n",
    "\n",
    "for i in range(min(a,b), 0, -1):\n",
    "    if a%i ==0 and b%i ==0:\n",
    "        print(i)\n",
    "        break\n",
    "    \n",
    "for i in range(max(a,b), (a*b)+1):\n",
    "    if i%a ==0 and i%b== 0:\n",
    "        print(i)\n",
    "        break"
   ]
  },
  {
   "cell_type": "code",
   "execution_count": 84,
   "id": "8a887f09",
   "metadata": {},
   "outputs": [],
   "source": [
    "a = {'qwe': 1}"
   ]
  },
  {
   "cell_type": "code",
   "execution_count": 88,
   "id": "4ecc0e65",
   "metadata": {},
   "outputs": [
    {
     "name": "stdout",
     "output_type": "stream",
     "text": [
      "dict_keys(['qwe'])\n",
      "dict_values([1])\n"
     ]
    }
   ],
   "source": [
    "print(a.keys())\n",
    "print(a.values())"
   ]
  },
  {
   "cell_type": "code",
   "execution_count": 93,
   "id": "74eb82db",
   "metadata": {},
   "outputs": [
    {
     "name": "stdout",
     "output_type": "stream",
     "text": [
      "5 1 6\n"
     ]
    }
   ],
   "source": [
    "a,b,v = map(int, input().split())\n",
    "print(a,b,v)"
   ]
  },
  {
   "cell_type": "code",
   "execution_count": 11,
   "id": "032795a8",
   "metadata": {},
   "outputs": [
    {
     "name": "stdout",
     "output_type": "stream",
     "text": [
      "8\n",
      "12\n",
      "16\n",
      "20\n",
      "24\n"
     ]
    }
   ],
   "source": [
    "cnt = 0\n",
    "for i in range(v):\n",
    "    cnt += a\n",
    "    cnt -= b\n",
    "    if cnt >= v:\n",
    "        print()"
   ]
  },
  {
   "cell_type": "code",
   "execution_count": 46,
   "id": "a06af888",
   "metadata": {},
   "outputs": [
    {
     "name": "stdout",
     "output_type": "stream",
     "text": [
      "2\n",
      "2\n",
      "2\n",
      "2\n",
      "2\n",
      "1\n",
      "\n"
     ]
    }
   ],
   "source": [
    "cnt = 1\n",
    "for i in range(1, v+1):\n",
    "    cnt = cnt * a\n",
    "    print(cnt)\n",
    "    cnt -= b"
   ]
  },
  {
   "cell_type": "code",
   "execution_count": 94,
   "id": "c6bdf527",
   "metadata": {},
   "outputs": [
    {
     "name": "stdout",
     "output_type": "stream",
     "text": [
      "5\n",
      "4\n",
      "\n",
      "9\n",
      "day: 2\n"
     ]
    }
   ],
   "source": [
    "cnt = 0\n",
    "day = 0\n",
    "while True:\n",
    "    day +=1\n",
    "    cnt += a\n",
    "    print(cnt)\n",
    "    if cnt >= v:\n",
    "        break\n",
    "    cnt -= b\n",
    "    print(cnt)\n",
    "    print('')\n",
    "    \n",
    "    \n",
    "print('day:', day)"
   ]
  },
  {
   "cell_type": "code",
   "execution_count": 152,
   "metadata": {},
   "outputs": [
    {
     "name": "stdout",
     "output_type": "stream",
     "text": [
      "2 1 5\n"
     ]
    }
   ],
   "source": [
    "a,b,v = map(int, input().split())\n",
    "\n",
    "print(a,b,v)"
   ]
  },
  {
   "cell_type": "code",
   "execution_count": 153,
   "id": "f58d8a92",
   "metadata": {},
   "outputs": [
    {
     "name": "stdout",
     "output_type": "stream",
     "text": [
      "4\n"
     ]
    },
    {
     "data": {
      "text/plain": [
       "1"
      ]
     },
     "execution_count": 153,
     "metadata": {},
     "output_type": "execute_result"
    }
   ],
   "source": [
    "print(v-b)\n",
    "a-b"
   ]
  },
  {
   "cell_type": "code",
   "execution_count": 157,
   "id": "2e9a7873",
   "metadata": {},
   "outputs": [
    {
     "name": "stdout",
     "output_type": "stream",
     "text": [
      "4\n"
     ]
    }
   ],
   "source": [
    "# 하루에 올라가는 거리 a-b\n",
    "# 정상에 도착하면 미끄러짐 X , 따라서 정상은 v-b\n",
    "\n",
    "if (v-b) % (a-b) == 0:\n",
    "    print(int((v-b) / (a-b)))\n",
    "else:\n",
    "    print(int((v-b) / (a-b) + 1))"
   ]
  },
  {
   "cell_type": "code",
   "execution_count": 14,
   "id": "61878d26",
   "metadata": {},
   "outputs": [
    {
     "name": "stdout",
     "output_type": "stream",
     "text": [
      "5 2\n"
     ]
    }
   ],
   "source": [
    "# 이항계수 nCk : N! / K! * (N-K)!\n",
    "a,b = map(int, input().split())\n",
    "\n",
    "def facto(x):\n",
    "    if x > 1:\n",
    "        return x * facto(x-1)\n",
    "    else:\n",
    "        return 1\n",
    "    \n",
    "print(int(facto(a) / (facto(b)* facto(a-b))))"
   ]
  },
  {
   "cell_type": "code",
   "execution_count": 18,
   "id": "6c6363ac",
   "metadata": {},
   "outputs": [],
   "source": [
    "def facto(x):\n",
    "    if x > 1:\n",
    "        return x * facto(x-1)\n",
    "    else:\n",
    "        return 1"
   ]
  },
  {
   "cell_type": "code",
   "execution_count": 21,
   "id": "2d9720ae",
   "metadata": {},
   "outputs": [
    {
     "name": "stdout",
     "output_type": "stream",
     "text": [
      "10\n"
     ]
    }
   ],
   "source": [
    "print(int(facto(a) / (facto(b)* facto(a-b))))"
   ]
  },
  {
   "cell_type": "code",
   "execution_count": 4,
   "id": "4c9f0345",
   "metadata": {},
   "outputs": [],
   "source": [
    "a = int(input())"
   ]
  },
  {
   "cell_type": "code",
   "execution_count": 11,
   "id": "6422076c",
   "metadata": {},
   "outputs": [
    {
     "name": "stdout",
     "output_type": "stream",
     "text": [
      "[1, 2, 3]\n"
     ]
    }
   ],
   "source": [
    "q = []\n",
    "for _ in range(a):\n",
    "    b =int(input())\n",
    "    q.append(b)"
   ]
  },
  {
   "cell_type": "code",
   "execution_count": 13,
   "id": "2cb25da2",
   "metadata": {},
   "outputs": [
    {
     "ename": "TypeError",
     "evalue": "print() argument after * must be an iterable, not int",
     "output_type": "error",
     "traceback": [
      "\u001b[1;31m---------------------------------------------------------------------------\u001b[0m",
      "\u001b[1;31mTypeError\u001b[0m                                 Traceback (most recent call last)",
      "Cell \u001b[1;32mIn[13], line 9\u001b[0m\n\u001b[0;32m      7\u001b[0m c\u001b[39m.\u001b[39msort(reverse \u001b[39m=\u001b[39m \u001b[39mTrue\u001b[39;00m)\n\u001b[0;32m      8\u001b[0m \u001b[39mfor\u001b[39;00m _ \u001b[39min\u001b[39;00m \u001b[39mrange\u001b[39m(a):\n\u001b[1;32m----> 9\u001b[0m     \u001b[39mprint\u001b[39;49m(\u001b[39m*\u001b[39;49mc\u001b[39m.\u001b[39;49mpop())\n",
      "\u001b[1;31mTypeError\u001b[0m: print() argument after * must be an iterable, not int"
     ]
    }
   ],
   "source": [
    "a = int(input())\n",
    "\n",
    "c = []\n",
    "for i in range(a):\n",
    "    b = list(map(int, input().split()))\n",
    "    c.append(b)\n",
    "c.sort(reverse = True)\n",
    "for _ in range(a):\n",
    "    print(*c.pop())"
   ]
  },
  {
   "cell_type": "code",
   "execution_count": 17,
   "id": "17ed12a6",
   "metadata": {},
   "outputs": [],
   "source": [
    "import sys\n",
    "\n",
    "a = int(sys.stdin.readline())\n",
    "q =[]\n",
    "for _ in range(a):\n",
    "    q.append(int(sys.stdin.readline()))\n",
    "\n",
    "for i in sorted(q):\n",
    "    print(i)"
   ]
  },
  {
   "cell_type": "code",
   "execution_count": null,
   "id": "2fea319c",
   "metadata": {},
   "outputs": [],
   "source": [
    "import sys\n",
    "n = int(sys.stdin.readline())\n",
    "for i in range(n):\n",
    "    a,b = map(int, sys.stdin.readline().split())\n",
    "    print(a+b)"
   ]
  },
  {
   "cell_type": "code",
   "execution_count": 7,
   "id": "e3e0d723",
   "metadata": {},
   "outputs": [],
   "source": [
    "def is_palindrome(word):\n",
    "    for i in range(len(word)):\n",
    "        if word[i] != word[len(word) - i - 1]:\n",
    "            return 0\n",
    "    return 1"
   ]
  },
  {
   "cell_type": "code",
   "execution_count": 23,
   "id": "88da641c",
   "metadata": {},
   "outputs": [
    {
     "name": "stdout",
     "output_type": "stream",
     "text": [
      "2\n",
      "2\n",
      "10\n",
      "1\n"
     ]
    }
   ],
   "source": [
    "a = int(input())\n",
    "\n",
    "b=[]\n",
    "for i in range(a):\n",
    "    b.append(int(input()))\n",
    "\n",
    "# 산술평균\n",
    "print(int(sum(b) / a))\n",
    "\n",
    "# 중앙값\n",
    "print(sorted(b)[a//2])\n",
    "\n",
    "# 최빈값\n",
    "from collections import Counter\n",
    "c = Counter(sorted(b))\n",
    "if len(c.most_common()) > 1 and c.most_common(2)[0][1] == c.most_common(2)[1][1]:\n",
    "    print(c.most_common(2)[1][0])\n",
    "else:\n",
    "    c.most_common(2)[0][0]\n",
    "\n",
    "# 범위\n",
    "print(max(b)-min(b))"
   ]
  },
  {
   "cell_type": "code",
   "execution_count": 15,
   "id": "0aa2a40a",
   "metadata": {},
   "outputs": [
    {
     "data": {
      "text/plain": [
       "2"
      ]
     },
     "execution_count": 15,
     "metadata": {},
     "output_type": "execute_result"
    }
   ],
   "source": [
    "# 산술평균\n",
    "print(int(sum(b) / a))\n"
   ]
  },
  {
   "cell_type": "code",
   "execution_count": 17,
   "id": "6696cfe1",
   "metadata": {},
   "outputs": [
    {
     "data": {
      "text/plain": [
       "2"
      ]
     },
     "execution_count": 17,
     "metadata": {},
     "output_type": "execute_result"
    }
   ],
   "source": [
    "# 중앙값\n",
    "sorted(b)[a//2]"
   ]
  },
  {
   "cell_type": "code",
   "execution_count": 18,
   "id": "a56f477f",
   "metadata": {},
   "outputs": [
    {
     "name": "stdout",
     "output_type": "stream",
     "text": [
      "10\n"
     ]
    }
   ],
   "source": [
    "# 범위\n",
    "print(max(b)-min(b))"
   ]
  },
  {
   "cell_type": "code",
   "execution_count": 1,
   "id": "3045d273",
   "metadata": {},
   "outputs": [
    {
     "name": "stdout",
     "output_type": "stream",
     "text": [
      "[-1, -2, -3, -1, -2]\n",
      "{-3, -1, -2}\n",
      "1\n",
      "2\n",
      "2\n"
     ]
    }
   ],
   "source": [
    "c = [ -1,-2,-3,-1,-2]\n",
    "print(c)\n",
    "print(set(c))\n",
    "for i in list(set(c)):\n",
    "    print(c.count(i))\n"
   ]
  },
  {
   "cell_type": "code",
   "execution_count": 20,
   "id": "182e954f",
   "metadata": {},
   "outputs": [
    {
     "name": "stdout",
     "output_type": "stream",
     "text": [
      "Counter({-2: 1, 1: 1, 2: 1, 3: 1, 8: 1})\n"
     ]
    },
    {
     "data": {
      "text/plain": [
       "[(-2, 1), (1, 1)]"
      ]
     },
     "execution_count": 20,
     "metadata": {},
     "output_type": "execute_result"
    }
   ],
   "source": [
    "from collections import Counter\n",
    "c = Counter(sorted(b))\n",
    "if c.most_common(2)[0][1] == c.most_common(2)[1][1]:\n",
    "    print(c.most_common(2)[1][0])\n",
    "else:\n",
    "    c.most_common(2)[0][0]"
   ]
  },
  {
   "cell_type": "code",
   "execution_count": 21,
   "id": "e3875148",
   "metadata": {},
   "outputs": [
    {
     "name": "stdout",
     "output_type": "stream",
     "text": [
      "1\n"
     ]
    }
   ],
   "source": [
    "c.most_common(2)\n",
    "if c.most_common(2)[0][1] == c.most_common(2)[1][1]:\n",
    "    print(c.most_common(2)[1][0])\n",
    "else:\n",
    "    c.most_common(2)[0][0]"
   ]
  },
  {
   "cell_type": "code",
   "execution_count": 26,
   "id": "b0819e76",
   "metadata": {},
   "outputs": [
    {
     "data": {
      "text/plain": [
       "1"
      ]
     },
     "execution_count": 26,
     "metadata": {},
     "output_type": "execute_result"
    }
   ],
   "source": [
    "len(c.most_common(1))"
   ]
  },
  {
   "cell_type": "code",
   "execution_count": null,
   "id": "dce06ae5",
   "metadata": {},
   "outputs": [],
   "source": [
    "a = int(input())\n",
    "b=[]\n",
    "for i in range(a):\n",
    "    b.append(int(input()))\n",
    "\n",
    "# 산술평균\n",
    "avg = (round(sum(b) / a))\n",
    "# 중앙값\n",
    "mid = (sorted(b)[a//2])\n",
    "# 범위\n",
    "rng = (max(b)-min(b))\n",
    "\n",
    "print(abg)\n",
    "print(mid)\n",
    "print(rng)\n",
    "# 최빈값\n",
    "from collections import Counter\n",
    "c = Counter(sorted(b))\n",
    "if len(c.most_common()) > 1 and c.most_common(2)[0][1] == c.most_common(2)[1][1]:\n",
    "    print(c.most_common(2)[1][0])\n",
    "else:\n",
    "    print(c.most_common()[0][0])"
   ]
  },
  {
   "cell_type": "code",
   "execution_count": 27,
   "id": "a834b4be",
   "metadata": {},
   "outputs": [],
   "source": [
    "N = int(input())\n",
    "a= list(map(int, input().split()))"
   ]
  },
  {
   "cell_type": "code",
   "execution_count": 28,
   "id": "75b34849",
   "metadata": {},
   "outputs": [
    {
     "name": "stdout",
     "output_type": "stream",
     "text": [
      "4\n",
      "[1, 2, 5, 9]\n"
     ]
    }
   ],
   "source": [
    "print(N)\n",
    "print(a)"
   ]
  },
  {
   "cell_type": "code",
   "execution_count": 35,
   "id": "ae77e88d",
   "metadata": {},
   "outputs": [
    {
     "name": "stdout",
     "output_type": "stream",
     "text": [
      " 1\n",
      " 2\n",
      "1\n",
      " 5\n",
      "1\n",
      "2\n",
      "3\n",
      "1\n",
      " 9\n",
      "1\n",
      "2\n",
      "3\n",
      "1\n",
      "5\n",
      "4\n",
      "3\n",
      "2\n"
     ]
    }
   ],
   "source": [
    "cnt = 0\n",
    "for i in a:\n",
    "    print('', i)\n",
    "    for j in range(2, i+1):\n",
    "        r = n % j\n",
    "        print(r)\n",
    "        if r == 0:\n",
    "            print('sosu:')\n"
   ]
  },
  {
   "cell_type": "code",
   "execution_count": 8,
   "id": "844b6f77",
   "metadata": {},
   "outputs": [
    {
     "name": "stdout",
     "output_type": "stream",
     "text": [
      "1\n",
      "2\n",
      "3\n",
      "1\n",
      "5\n",
      "4\n",
      "3\n",
      "2\n",
      "1\n",
      "소수입니다\n"
     ]
    }
   ],
   "source": [
    "n = int(input('숫자를 입력하세요: '))\n",
    "prime = True\n",
    "for i in range(2,n):\n",
    "    r = n % i\n",
    "    print(r)\n",
    "    if r == 0:\n",
    "        prime = False\n",
    "        break\n",
    "if prime:\n",
    "    print(\"소수입니다\")\n",
    "else:\n",
    "    print(\"소수가 아닙니다\")"
   ]
  },
  {
   "cell_type": "code",
   "execution_count": 34,
   "id": "38373c8f",
   "metadata": {},
   "outputs": [
    {
     "data": {
      "text/plain": [
       "0"
      ]
     },
     "execution_count": 34,
     "metadata": {},
     "output_type": "execute_result"
    }
   ],
   "source": [
    "4 % 2"
   ]
  },
  {
   "cell_type": "code",
   "execution_count": 1,
   "id": "4b090ad1",
   "metadata": {},
   "outputs": [
    {
     "name": "stdout",
     "output_type": "stream",
     "text": [
      "3 16\n"
     ]
    }
   ],
   "source": [
    "a,b = map(int, input().split())"
   ]
  },
  {
   "cell_type": "code",
   "execution_count": 7,
   "id": "c0c2f2d1",
   "metadata": {},
   "outputs": [
    {
     "name": "stdout",
     "output_type": "stream",
     "text": [
      "2\n",
      "3\n",
      "5\n",
      "7\n",
      "11\n",
      "13\n"
     ]
    }
   ],
   "source": [
    "a,b = map(int, input().split())\n",
    "for i in range(a, b+1):\n",
    "    for j in range(2,i+1):\n",
    "        if i % j == 0:\n",
    "            if i != j:\n",
    "                break\n",
    "            else:\n",
    "                print(j)"
   ]
  },
  {
   "cell_type": "code",
   "execution_count": 18,
   "id": "97904fc7",
   "metadata": {},
   "outputs": [
    {
     "name": "stdout",
     "output_type": "stream",
     "text": [
      "3\n",
      "5\n",
      "7\n",
      "11\n",
      "13\n"
     ]
    }
   ],
   "source": [
    "a,b = map(int, input().split())\n",
    "\n",
    "for i in range(a, b + 1):\n",
    "    n = 1\n",
    "    for j in range( 2, int(pow(i, 0.5) + 1)):\n",
    "        if i % j == 0:\n",
    "            n = 0\n",
    "            break\n",
    "    if n == 1 and i != 1:\n",
    "        print(i)"
   ]
  },
  {
   "cell_type": "code",
   "execution_count": null,
   "id": "03b12195",
   "metadata": {},
   "outputs": [],
   "source": [
    "import sys\n",
    "a,b = map(int, sys.stdin.readline().split())\n",
    "\n",
    "for i in range(a, b+1):\n",
    "    for j in range( 2, int(pow(i, 0.5) + 1)):\n",
    "        if i % j == 0:\n",
    "            if i != j:\n",
    "                break\n",
    "            else:\n",
    "                print(j)"
   ]
  },
  {
   "cell_type": "code",
   "execution_count": 33,
   "id": "47a555d5",
   "metadata": {},
   "outputs": [],
   "source": [
    "N = int(input())\n",
    "list1 = []\n",
    "for _ in range(N):\n",
    "    list1.append(list(map(int, input().split())))"
   ]
  },
  {
   "cell_type": "code",
   "execution_count": 34,
   "id": "e69b1110",
   "metadata": {},
   "outputs": [
    {
     "name": "stdout",
     "output_type": "stream",
     "text": [
      "[[1, -1], [1, 1], [2, 2], [3, 3], [3, 4]]\n"
     ]
    }
   ],
   "source": [
    "list1 = sorted(list1)\n",
    "print(list1)"
   ]
  },
  {
   "attachments": {},
   "cell_type": "markdown",
   "id": "738bb8fb",
   "metadata": {},
   "source": []
  },
  {
   "cell_type": "code",
   "execution_count": 42,
   "id": "9d3ca16e",
   "metadata": {},
   "outputs": [
    {
     "name": "stdout",
     "output_type": "stream",
     "text": [
      "1 -1\n",
      "1 1\n",
      "2 2\n",
      "3 3\n",
      "3 4\n"
     ]
    }
   ],
   "source": [
    "for i in range((N)):\n",
    "    print(list1[i][0], list1[i][1])"
   ]
  },
  {
   "cell_type": "code",
   "execution_count": 45,
   "id": "f7f8e52b",
   "metadata": {},
   "outputs": [
    {
     "name": "stdout",
     "output_type": "stream",
     "text": [
      "1 -1\n",
      "1 1\n",
      "2 2\n",
      "3 4\n",
      "5 5\n"
     ]
    }
   ],
   "source": [
    "N = int(input())\n",
    "list1 = []\n",
    "for _ in range(N):\n",
    "    list1.append(list(map(int, input().split())))\n",
    "list1 = sorted(list1)\n",
    "for i in range((N)):\n",
    "    print(list1[i][0], list1[i][1])"
   ]
  },
  {
   "cell_type": "code",
   "execution_count": 18,
   "id": "431d6c26",
   "metadata": {},
   "outputs": [
    {
     "name": "stdout",
     "output_type": "stream",
     "text": [
      "123\n"
     ]
    },
    {
     "ename": "TypeError",
     "evalue": "object of type 'int' has no len()",
     "output_type": "error",
     "traceback": [
      "\u001b[1;31m---------------------------------------------------------------------------\u001b[0m",
      "\u001b[1;31mTypeError\u001b[0m                                 Traceback (most recent call last)",
      "Cell \u001b[1;32mIn[18], line 4\u001b[0m\n\u001b[0;32m      2\u001b[0m \u001b[39mprint\u001b[39m(N)\n\u001b[0;32m      3\u001b[0m \u001b[39m# len(N)\u001b[39;00m\n\u001b[1;32m----> 4\u001b[0m mini \u001b[39m=\u001b[39m \u001b[39mint\u001b[39m(N) \u001b[39m-\u001b[39m \u001b[39mlen\u001b[39;49m(N) \u001b[39m*\u001b[39m \u001b[39m9\u001b[39m\n\u001b[0;32m      5\u001b[0m a \u001b[39m=\u001b[39m \u001b[39mlen\u001b[39m(N) \u001b[39m*\u001b[39m \u001b[39m9\u001b[39m\n\u001b[0;32m      6\u001b[0m \u001b[39mprint\u001b[39m(mini)\n",
      "\u001b[1;31mTypeError\u001b[0m: object of type 'int' has no len()"
     ]
    }
   ],
   "source": []
  },
  {
   "cell_type": "code",
   "execution_count": 53,
   "id": "33a484af",
   "metadata": {},
   "outputs": [
    {
     "name": "stdout",
     "output_type": "stream",
     "text": [
      "7\n"
     ]
    }
   ],
   "source": [
    "N = int(input())\n",
    "result = 0\n",
    "\n",
    "for i in range(1, N+1):\n",
    "    A = list(map(int, str(i)))\n",
    "    # print(A)\n",
    "    result = i + sum(A)\n",
    "    # print(i , A , result, N )\n",
    "    if result == N:\n",
    "        print(i)\n",
    "        break\n",
    "    \n",
    "    if i == N:\n",
    "        print(0)"
   ]
  },
  {
   "cell_type": "code",
   "execution_count": 63,
   "id": "27b7fede",
   "metadata": {},
   "outputs": [
    {
     "data": {
      "text/plain": [
       "int"
      ]
     },
     "execution_count": 63,
     "metadata": {},
     "output_type": "execute_result"
    }
   ],
   "source": [
    "N = input()\n",
    "result = 0\n",
    "\n",
    "digit = len(N) * 9\n"
   ]
  },
  {
   "cell_type": "code",
   "execution_count": 64,
   "id": "85aef817",
   "metadata": {},
   "outputs": [
    {
     "name": "stdout",
     "output_type": "stream",
     "text": [
      "96\n",
      "97\n",
      "98\n",
      "99\n",
      "100\n",
      "101\n",
      "102\n",
      "103\n",
      "104\n",
      "105\n",
      "106\n",
      "107\n",
      "108\n",
      "109\n",
      "110\n",
      "111\n",
      "112\n",
      "113\n",
      "114\n",
      "115\n",
      "116\n",
      "117\n",
      "118\n",
      "119\n",
      "120\n",
      "121\n",
      "122\n"
     ]
    }
   ],
   "source": [
    "for i in range(int(N)-digit, int(N)):\n",
    "    print(i)"
   ]
  },
  {
   "cell_type": "code",
   "execution_count": 5,
   "id": "c9f7df91",
   "metadata": {},
   "outputs": [],
   "source": [
    "a = int(input())\n",
    "b = int(input())\n",
    "c = b + (b-a)\n",
    "print(c)"
   ]
  },
  {
   "cell_type": "code",
   "execution_count": 47,
   "id": "0f7107b4",
   "metadata": {},
   "outputs": [
    {
     "name": "stdout",
     "output_type": "stream",
     "text": [
      "<4, 8, 3, 9, 6, 5, 7, 2, 1>\n"
     ]
    }
   ],
   "source": [
    "a,b = map(int, input().split())\n",
    "q = [i for i in range(1, a+1)]\n",
    "p = 0\n",
    "print(\"<\", end= '')\n",
    "while len(q) > 1:\n",
    "    p = p + b\n",
    "    if p > len(q):\n",
    "        p = p % len(q)\n",
    "        if p == 0:\n",
    "            p = p + len(q)\n",
    "    p = p - 1\n",
    "    print(q.pop(p), end = ', ')\n",
    "print(str(q.pop())+ \">\")"
   ]
  },
  {
   "cell_type": "code",
   "execution_count": 39,
   "id": "ce4b207e",
   "metadata": {},
   "outputs": [
    {
     "name": "stdout",
     "output_type": "stream",
     "text": [
      "20 qq\n",
      "20 aaa\n",
      "21 lll\n",
      "8 zxcv\n",
      "21 yyy\n"
     ]
    }
   ],
   "source": [
    "N = int(input())\n",
    "list1 = []\n",
    "for _ in range(N):\n",
    "    list1.append(list(map(str, input().split())))\n",
    "list1.sort(key= lambda x: int(x[0]))\n",
    "for i in range(N):\n",
    "    print(list1[i][0], list1[i][1])"
   ]
  },
  {
   "cell_type": "code",
   "execution_count": 40,
   "id": "e951dd9b",
   "metadata": {},
   "outputs": [
    {
     "name": "stdout",
     "output_type": "stream",
     "text": [
      "[['8', 'zxcv'], ['20', 'qq'], ['20', 'aaa'], ['21', 'lll'], ['21', 'yyy']]\n"
     ]
    }
   ],
   "source": [
    "list1.sort(key= lambda x: int(x[0]))\n",
    "print(list1)"
   ]
  },
  {
   "attachments": {},
   "cell_type": "markdown",
   "id": "abe8d810",
   "metadata": {},
   "source": []
  },
  {
   "cell_type": "code",
   "execution_count": 25,
   "id": "c18a3d9d",
   "metadata": {},
   "outputs": [
    {
     "name": "stdout",
     "output_type": "stream",
     "text": [
      "11 qwe\n",
      "19 aaa\n",
      "19 asd\n"
     ]
    }
   ],
   "source": [
    "for i in range(N):\n",
    "    print(list1[i][0], list1[i][1] )"
   ]
  },
  {
   "cell_type": "code",
   "execution_count": 37,
   "metadata": {},
   "outputs": [
    {
     "name": "stdout",
     "output_type": "stream",
     "text": [
      "i\n",
      "im\n",
      "it\n",
      "no\n",
      "but\n",
      "more\n",
      "wait\n",
      "wont\n",
      "yours\n",
      "connot\n",
      "hesitate\n"
     ]
    }
   ],
   "source": [
    "N = int(input())\n",
    "list1 = []\n",
    "for _ in range(N):\n",
    "    list1.append(input())\n",
    "list1 = list(set(list1))\n",
    "list1.sort()\n",
    "list1.sort(key= lambda x: len(x))\n",
    "\n",
    "for i in list1:\n",
    "    print(i)"
   ]
  },
  {
   "cell_type": "code",
   "execution_count": 30,
   "metadata": {},
   "outputs": [
    {
     "name": "stdout",
     "output_type": "stream",
     "text": [
      "['asd', 'nhh', 'yuu', 'zsd', 'qwerqwer']\n"
     ]
    }
   ],
   "source": [
    "print(list1)"
   ]
  },
  {
   "cell_type": "code",
   "execution_count": 28,
   "metadata": {},
   "outputs": [],
   "source": [
    "N = int(input())\n",
    "a = input().split()\n",
    "\n",
    "M = int(input())\n",
    "b = input().split()"
   ]
  },
  {
   "cell_type": "code",
   "execution_count": 2,
   "id": "6330dd07",
   "metadata": {},
   "outputs": [],
   "source": [
    "import sys\n",
    "N = int(sys.stdin.readline())\n",
    "Nlist = list(map(int, sys.stdin.readline().split()))\n",
    "M = int(sys.stdin.readline())\n",
    "Mlist = list(map(int, sys.stdin.readline().split()))\n",
    "for i in Mlist:\n",
    "    print(1) if i in Nlist else print(0)"
   ]
  },
  {
   "cell_type": "code",
   "execution_count": 19,
   "id": "457f891d",
   "metadata": {},
   "outputs": [
    {
     "name": "stdout",
     "output_type": "stream",
     "text": [
      "497\n"
     ]
    }
   ],
   "source": [
    "N,M = map(int, input().split())\n",
    "nums = list(map(int, input().split()))\n",
    "result = 0\n",
    "\n",
    "for i in range(N-2):\n",
    "    for j in range(i+1, N-1):\n",
    "        for k in range(j+1, N):\n",
    "            temp = nums[i] + nums[j] + nums[k]\n",
    "            if result < temp <= M:\n",
    "                result = temp\n",
    "print(result)"
   ]
  },
  {
   "cell_type": "code",
   "execution_count": 15,
   "id": "927aee85",
   "metadata": {},
   "outputs": [
    {
     "name": "stdout",
     "output_type": "stream",
     "text": [
      "21\n"
     ]
    }
   ],
   "source": [
    "import sys\n",
    "N = int(sys.stdin.readline())\n",
    "Nlist = list(map(int, sys.stdin.readline().split()))\n",
    "M = int(sys.stdin.readline())\n",
    "Mlist = list(map(int, sys.stdin.readline().split()))"
   ]
  },
  {
   "cell_type": "code",
   "execution_count": 1,
   "id": "61ddaec9",
   "metadata": {},
   "outputs": [],
   "source": []
  },
  {
   "cell_type": "code",
   "execution_count": 2,
   "id": "77c6bf31",
   "metadata": {},
   "outputs": [
    {
     "data": {
      "text/plain": [
       "[6, 3, 2, 10, 10, 10, -10, -10, 7, 3]"
      ]
     },
     "execution_count": 2,
     "metadata": {},
     "output_type": "execute_result"
    }
   ],
   "source": [
    "Nlist"
   ]
  },
  {
   "cell_type": "code",
   "execution_count": 3,
   "id": "8cda0848",
   "metadata": {},
   "outputs": [
    {
     "data": {
      "text/plain": [
       "[10, 9, -5, 2, 3, 4, 5, -10]"
      ]
     },
     "execution_count": 3,
     "metadata": {},
     "output_type": "execute_result"
    }
   ],
   "source": [
    "Mlist"
   ]
  },
  {
   "cell_type": "code",
   "execution_count": 9,
   "id": "d689b834",
   "metadata": {},
   "outputs": [
    {
     "name": "stdout",
     "output_type": "stream",
     "text": [
      "1 0 0 1 1 0 0 1 "
     ]
    }
   ],
   "source": [
    "for i in Mlist:\n",
    "    print(1, end= ' ') if i in Nlist else print(0, end = ' ')"
   ]
  },
  {
   "cell_type": "code",
   "execution_count": 17,
   "id": "ed058af0",
   "metadata": {},
   "outputs": [],
   "source": [
    "from collections import Counter\n",
    "import sys\n",
    "N = int(sys.stdin.readline())\n",
    "Nlist = list(map(int, sys.stdin.readline().split()))\n",
    "M = int(sys.stdin.readline())\n",
    "Mlist = list(map(int, sys.stdin.readline().split()))\n",
    "\n",
    "c = Counter(Nlist)\n",
    "for i in Mlist:\n",
    "    print(c[i], end=' ') if i in c else print(0, end=' ')"
   ]
  },
  {
   "cell_type": "code",
   "execution_count": 18,
   "id": "89c1e9db",
   "metadata": {},
   "outputs": [
    {
     "data": {
      "text/plain": [
       "Counter({6: 1, 3: 2, 2: 1, 10: 3, -10: 2, 7: 1})"
      ]
     },
     "execution_count": 18,
     "metadata": {},
     "output_type": "execute_result"
    }
   ],
   "source": [
    "c"
   ]
  },
  {
   "cell_type": "code",
   "execution_count": 20,
   "id": "3eca6375",
   "metadata": {},
   "outputs": [
    {
     "name": "stdout",
     "output_type": "stream",
     "text": [
      "3 0 0 1 2 0 0 2 "
     ]
    }
   ],
   "source": [
    "for i in Mlist:\n",
    "    print(c[i], end=' ') if i in c else print(0, end=' ')"
   ]
  },
  {
   "cell_type": "code",
   "execution_count": 3,
   "id": "5be1eab0",
   "metadata": {},
   "outputs": [
    {
     "data": {
      "text/plain": [
       "deque([1, 2, 3, 4])"
      ]
     },
     "execution_count": 3,
     "metadata": {},
     "output_type": "execute_result"
    }
   ],
   "source": [
    "from collections import deque\n",
    "N = int(input())\n",
    "a = deque(i for i in range(1, N+1))\n",
    "while len(a) > 1:\n",
    "    a.popleft()\n",
    "    a.append(a[0])\n",
    "    a.popleft()\n",
    "print(a.pop())"
   ]
  },
  {
   "cell_type": "code",
   "execution_count": 6,
   "id": "b147af64",
   "metadata": {},
   "outputs": [
    {
     "name": "stdout",
     "output_type": "stream",
     "text": [
      "4\n"
     ]
    }
   ],
   "source": [
    "while len(a) > 1:\n",
    "    a.popleft()\n",
    "    a.append(a[0])\n",
    "    a.popleft()\n",
    "print(a.pop())\n"
   ]
  },
  {
   "cell_type": "code",
   "execution_count": 18,
   "id": "9fea9b08",
   "metadata": {},
   "outputs": [
    {
     "name": "stdout",
     "output_type": "stream",
     "text": [
      "NO\n",
      "NO\n",
      "YES\n",
      "NO\n",
      "NO\n"
     ]
    }
   ],
   "source": [
    "N = int(input())\n",
    "\n",
    "for _ in range(N):\n",
    "    a = list(input())\n",
    "    sum = 0\n",
    "    for i in a:\n",
    "        if i =='(':\n",
    "            sum += 1\n",
    "        elif i == ')':\n",
    "            sum -= 1\n",
    "        if sum < 0:\n",
    "            print('NO')\n",
    "            break\n",
    "    if sum == 0:\n",
    "        print('YES')\n",
    "    elif sum > 0:\n",
    "        print(\"NO\")\n",
    "\n"
   ]
  },
  {
   "cell_type": "code",
   "execution_count": null,
   "id": "9ab2fd99",
   "metadata": {},
   "outputs": [],
   "source": [
    "from collections import deque\n",
    "\n",
    "def push(value):\n",
    "    deque.append(value)"
   ]
  },
  {
   "cell_type": "code",
   "execution_count": 6,
   "id": "9046d659",
   "metadata": {},
   "outputs": [
    {
     "name": "stdout",
     "output_type": "stream",
     "text": [
      "2\n",
      "2\n",
      "0\n",
      "2\n",
      "1\n",
      "-1\n",
      "0\n",
      "1\n",
      "-1\n",
      "0\n",
      "3\n"
     ]
    }
   ],
   "source": [
    "import sys\n",
    "from collections import deque\n",
    "q = deque()\n",
    "N = int(sys.stdin.readline())\n",
    "for _ in range(N):\n",
    "    command = sys.stdin.readline().split()\n",
    "    if command[0] == 'push':\n",
    "        q.append(command[1])\n",
    "    if command[0] == 'pop':\n",
    "        if len(q) == 0: print(-1)\n",
    "        else:\n",
    "            print(q.pop())\n",
    "    if command[0] == 'size':\n",
    "        print(len(q))\n",
    "    if command[0] == 'empty':\n",
    "        if len(q) == 0: print(1)\n",
    "        else: print(0)\n",
    "    if command[0] == 'top':\n",
    "        if len(q) == 0: print(-1)\n",
    "        else: print(q[-1])"
   ]
  },
  {
   "cell_type": "code",
   "execution_count": 5,
   "id": "08379b3a",
   "metadata": {},
   "outputs": [
    {
     "name": "stdout",
     "output_type": "stream",
     "text": [
      "2\n",
      "1\n",
      "2\n"
     ]
    }
   ],
   "source": [
    "import sys\n",
    "from collections import deque\n",
    "q = deque()\n",
    "N = int(sys.stdin.readline())\n",
    "for _ in range(N):\n",
    "    command = sys.stdin.readline().split()\n",
    "    if command[0] == 'push_front':\n",
    "        q.appendleft(command[1])\n",
    "    if command[0] == 'push_back':\n",
    "        q.append(command[1])\n",
    "    if command[0] == 'pop_front':\n",
    "        if len(q) == 0: print(-1)\n",
    "        else: print(q.popleft())\n",
    "    if command[0] == 'pop_back':\n",
    "        if len(q) == 0: print(-1)\n",
    "        else: print(q.pop())\n",
    "    if command[0] == 'size':\n",
    "        print(len(q))\n",
    "    if command[0] == 'empty':\n",
    "        if len(q) == 0: print(1)\n",
    "        else: print(0)\n",
    "    if command[0] == 'front':\n",
    "        if len(q) == 0: print(-1)\n",
    "        else: print(q[0])\n",
    "    if command[0] == 'back':\n",
    "        if len(q) == 0: print(-1)\n",
    "        else: print(q[-1])"
   ]
  },
  {
   "cell_type": "code",
   "execution_count": 5,
   "id": "ecad954e",
   "metadata": {},
   "outputs": [
    {
     "name": "stdout",
     "output_type": "stream",
     "text": [
      "BWBWBWB\n",
      "WBWBWBWB\n",
      "BWBWBWB\n",
      "WBWBWBWB\n",
      "BWBWBWBW\n",
      "WBWBWBWB\n",
      "WBWBWBWB\n",
      "WBWBWBWB\n"
     ]
    }
   ],
   "source": [
    "N,M = map(int, input().split())\n",
    "\n",
    "board = []\n",
    "for _ in range(N):\n",
    "    board.append(input())\n",
    "count = []\n",
    "\n",
    "# N*M 보드에서 경우의 수 N-i * M-j\n",
    "for i in range(N-7):\n",
    "    for j in range(M-7):\n",
    "        first_B = 0 # black으로 시작할때 바꿔야할 체스판 수\n",
    "        first_W = 0 # white으로 시작할때 바꿔야할 체스판 수\n",
    "        for k in range(i,i+8):\n",
    "            for l in range(j, j+8):\n",
    "                if (k+l) % 2 == 0: # 인덱스의 합이 짝수인지 홀수인지로 체크무늬 판단 가능\n",
    "                    if board[k][l] != 'W':\n",
    "                        first_B += 1\n",
    "                    if board[k][l] != 'B':\n",
    "                        first_W += 1\n",
    "                else:\n",
    "                    if board[k][l] != 'B':\n",
    "                        first_B += 1\n",
    "                    if board[k][l] != 'W':\n",
    "                        first_W += 1\n",
    "        count.append(first_W)\n",
    "        count.append(first_B)\n",
    "print(min(count))"
   ]
  },
  {
   "cell_type": "code",
   "execution_count": 13,
   "id": "5b82cf4b",
   "metadata": {},
   "outputs": [
    {
     "name": "stdout",
     "output_type": "stream",
     "text": [
      "no\n",
      "no\n"
     ]
    }
   ],
   "source": [
    "while True:\n",
    "    sentence = input()\n",
    "    if sentence == '.':\n",
    "        break\n",
    "    stack = []\n",
    "    for i in sentence:\n",
    "        if i == '(' or i == '[':\n",
    "            stack.append(i)\n",
    "        elif i == ')':\n",
    "            if len(stack) != 0 and stack[-1] == '(' :\n",
    "                stack.pop()\n",
    "            else:\n",
    "                stack.append(')')\n",
    "                break\n",
    "        elif i == ']':\n",
    "            if  len(stack) != 0 and stack[-1] == '[':\n",
    "                stack.pop()\n",
    "            else:\n",
    "                stack.append(']')\n",
    "                break    \n",
    "    if len(stack) == 0:\n",
    "        print('yes')\n",
    "    else:\n",
    "        print('no')"
   ]
  },
  {
   "cell_type": "code",
   "execution_count": 12,
   "id": "89957ea6",
   "metadata": {},
   "outputs": [
    {
     "name": "stdout",
     "output_type": "stream",
     "text": [
      "no\n",
      "yes\n"
     ]
    }
   ],
   "source": [
    "while True :\n",
    "    a = input()\n",
    "    stack = []\n",
    "\n",
    "    if a == \".\" :\n",
    "        break\n",
    "\n",
    "    for i in a :\n",
    "        if i == '[' or i == '(' :\n",
    "            stack.append(i)\n",
    "        elif i == ']' :\n",
    "            if len(stack) != 0 and stack[-1] == '[' :\n",
    "                stack.pop() \n",
    "            else : \n",
    "                stack.append(']')\n",
    "                break\n",
    "        elif i == ')' :\n",
    "            if len(stack) != 0 and stack[-1] == '(' :\n",
    "                stack.pop()\n",
    "            else :\n",
    "                stack.append(')')\n",
    "                break\n",
    "    if len(stack) == 0 :\n",
    "        print('yes')\n",
    "    else :\n",
    "        print('no')"
   ]
  },
  {
   "cell_type": "code",
   "execution_count": 5,
   "id": "da15283d",
   "metadata": {},
   "outputs": [
    {
     "name": "stdout",
     "output_type": "stream",
     "text": [
      "1\n",
      "4\n"
     ]
    }
   ],
   "source": [
    "N = int(input())\n",
    "count = 0\n",
    "\n",
    "while N >= 0:\n",
    "    if N % 5 ==0:\n",
    "        count +=  N // 5\n",
    "        print(count)\n",
    "        break\n",
    "    N -= 3  # 5의 배수가 될때까지 뺀다\n",
    "    count +=1\n",
    "else:\n",
    "    print(-1)"
   ]
  },
  {
   "cell_type": "code",
   "execution_count": 14,
   "id": "f9e2dcaf",
   "metadata": {},
   "outputs": [
    {
     "name": "stdout",
     "output_type": "stream",
     "text": [
      "2\n",
      "3\n",
      "2\n",
      "3\n",
      "4\n"
     ]
    }
   ],
   "source": [
    "N = int(input())\n",
    "count = 0\n",
    "\n",
    "while N != 1:\n",
    "    if N % 3 == 0:\n",
    "        N /= 3\n",
    "        count += 1\n",
    "        print('1')\n",
    "    elif N % 2 == 0:\n",
    "        N /= 2\n",
    "        count += 1\n",
    "        print('2')\n",
    "    N -=1\n",
    "    count += 1\n",
    "    print('3')\n",
    "print(count)\n"
   ]
  },
  {
   "cell_type": "code",
   "execution_count": 20,
   "metadata": {},
   "outputs": [],
   "source": [
    "N = int(input())        \n"
   ]
  },
  {
   "cell_type": "code",
   "execution_count": 23,
   "id": "a0bd49e7",
   "metadata": {},
   "outputs": [
    {
     "data": {
      "text/plain": [
       "[0, 0, 0, 0, 0, 0, 0, 0, 0, 0, 0]"
      ]
     },
     "execution_count": 23,
     "metadata": {},
     "output_type": "execute_result"
    }
   ],
   "source": [
    "a = [0] * (N+1)\n",
    "a"
   ]
  },
  {
   "cell_type": "code",
   "execution_count": 25,
   "id": "301d9255",
   "metadata": {},
   "outputs": [
    {
     "name": "stdout",
     "output_type": "stream",
     "text": [
      "3\n"
     ]
    }
   ],
   "source": [
    "N = int(input())\n",
    "a = [0] * (N+1)\n",
    "\n",
    "for i in range(2,N+1):\n",
    "    a[i] = a[i-1] +1\n",
    "\n",
    "    if i % 2 ==0:\n",
    "        a[i] = min(a[i], a[i//2]+1)\n",
    "        \n",
    "    if i % 3 ==0:\n",
    "        a[i] = min(a[i], a[i//3]+1)\n",
    "print(a[N])"
   ]
  },
  {
   "cell_type": "code",
   "execution_count": 5,
   "id": "a2dc06a5",
   "metadata": {},
   "outputs": [
    {
     "data": {
      "text/plain": [
       "1"
      ]
     },
     "execution_count": 5,
     "metadata": {},
     "output_type": "execute_result"
    }
   ],
   "source": [
    "ord('a') - 96"
   ]
  },
  {
   "cell_type": "code",
   "execution_count": 19,
   "id": "0767c1bd",
   "metadata": {},
   "outputs": [
    {
     "name": "stdout",
     "output_type": "stream",
     "text": [
      "4739715\n"
     ]
    }
   ],
   "source": [
    "L = int(input())\n",
    "M = 1234567891\n",
    "r = 31\n",
    "\n",
    "a = input()\n",
    "result = 0\n",
    "\n",
    "for i in range(len(a)):\n",
    "    result += ((ord(a[i])-96) * (31 ** i))\n",
    "print(result % M)"
   ]
  },
  {
   "cell_type": "code",
   "execution_count": 27,
   "id": "0ffe1426",
   "metadata": {},
   "outputs": [
    {
     "data": {
      "text/plain": [
       "1124000727777607680000"
      ]
     },
     "execution_count": 27,
     "metadata": {},
     "output_type": "execute_result"
    }
   ],
   "source": [
    "def factorial(x):\n",
    "    while x>1:\n",
    "        return x * factorial(x-1)\n",
    "    else:\n",
    "        return 1\n",
    "\n",
    "a = (factorial(22))\n",
    "a"
   ]
  },
  {
   "cell_type": "code",
   "execution_count": 20,
   "id": "031debba",
   "metadata": {},
   "outputs": [
    {
     "name": "stdout",
     "output_type": "stream",
     "text": [
      "2\n"
     ]
    }
   ],
   "source": [
    "cnt = 0\n",
    "for i in str(a):\n",
    "    if i == '0':\n",
    "        cnt +=1\n",
    "print(cnt)"
   ]
  },
  {
   "cell_type": "code",
   "execution_count": 26,
   "id": "86facf64",
   "metadata": {},
   "outputs": [
    {
     "name": "stdout",
     "output_type": "stream",
     "text": [
      "4\n"
     ]
    }
   ],
   "source": [
    "def factorial(x):\n",
    "    while x>1:\n",
    "        return x * factorial(x-1)\n",
    "    else:\n",
    "        return 1\n",
    "    \n",
    "temp = factorial(int(input()))\n",
    "cnt = 0\n",
    "for i in str(temp)[::-1]:\n",
    "    if i !='0':\n",
    "        break\n",
    "    cnt += 1\n",
    "print(cnt)"
   ]
  },
  {
   "cell_type": "code",
   "execution_count": 137,
   "id": "23a5d657",
   "metadata": {},
   "outputs": [],
   "source": [
    "N = int(input())\n",
    "temp = []\n",
    "for _ in range(N):\n",
    "    a = list(map(int, input().split()))\n",
    "    temp.append(a)\n",
    "for i in temp:\n",
    "    result = 1    \n",
    "    for j in temp:\n",
    "        if (i[0] < j[0] and i[1] < j[1]):\n",
    "            result += 1\n",
    "    print(result, end = ' ')"
   ]
  },
  {
   "cell_type": "code",
   "execution_count": 9,
   "id": "8b902022",
   "metadata": {},
   "outputs": [
    {
     "name": "stdout",
     "output_type": "stream",
     "text": [
      "6663\n"
     ]
    }
   ],
   "source": [
    "N = int(input())\n",
    "cnt = 0\n",
    "end_num = 666\n",
    "\n",
    "while True:\n",
    "    if \"666\" in str(end_num):\n",
    "        cnt += 1\n",
    "    if cnt == N:\n",
    "        print(end_num)\n",
    "        break\n",
    "    end_num += 1"
   ]
  },
  {
   "cell_type": "code",
   "execution_count": null,
   "id": "19777d92",
   "metadata": {},
   "outputs": [],
   "source": [
    "1 - 666\n",
    "2 - 1666\n",
    "3 - 2666\n",
    "4 - 3666\n",
    "5 - 4666\n",
    "6 - 5666\n",
    "7 - 6660, 6661, 6662 , 6663, 6664, 6665, 6666, 6667, 6668, 6669\n",
    "17 - 7666\n",
    "18 - 8666\n",
    "19 - 9666\n",
    "20 - 10666\n",
    "21 - 11666\n",
    "22 - 12666\n",
    "23 - 13666\n",
    "24 - 14666\n",
    "25 - 15666\n",
    "26 - 16660, 1, 2, 3, 4, 5, 6, 7, 8, 9\n",
    "36 - 17666"
   ]
  },
  {
   "cell_type": "code",
   "execution_count": 5,
   "id": "50c11959",
   "metadata": {},
   "outputs": [
    {
     "data": {
      "text/plain": [
       "1"
      ]
     },
     "execution_count": 5,
     "metadata": {},
     "output_type": "execute_result"
    }
   ],
   "source": [
    "a = '6666'\n",
    "a.count('666')"
   ]
  },
  {
   "cell_type": "code",
   "execution_count": 21,
   "id": "bf381503",
   "metadata": {},
   "outputs": [
    {
     "ename": "TypeError",
     "evalue": "descriptor 'strftime' of 'datetime.date' object needs an argument",
     "output_type": "error",
     "traceback": [
      "\u001b[1;31m---------------------------------------------------------------------------\u001b[0m",
      "\u001b[1;31mTypeError\u001b[0m                                 Traceback (most recent call last)",
      "Cell \u001b[1;32mIn[21], line 2\u001b[0m\n\u001b[0;32m      1\u001b[0m \u001b[39mfrom\u001b[39;00m \u001b[39mdatetime\u001b[39;00m \u001b[39mimport\u001b[39;00m datetime\n\u001b[1;32m----> 2\u001b[0m day \u001b[39m=\u001b[39m datetime\u001b[39m.\u001b[39;49mstrftime()\n\u001b[0;32m      3\u001b[0m day\n",
      "\u001b[1;31mTypeError\u001b[0m: descriptor 'strftime' of 'datetime.date' object needs an argument"
     ]
    }
   ],
   "source": []
  },
  {
   "cell_type": "code",
   "execution_count": null,
   "id": "295a41f3",
   "metadata": {},
   "outputs": [],
   "source": [
    "from datetime import date\n",
    "day = date.today()\n",
    "day.isoformat()"
   ]
  },
  {
   "cell_type": "code",
   "execution_count": 5,
   "id": "b2a8df90",
   "metadata": {},
   "outputs": [
    {
     "data": {
      "text/plain": [
       "[1, 2, 3]"
      ]
     },
     "execution_count": 5,
     "metadata": {},
     "output_type": "execute_result"
    }
   ],
   "source": [
    "from collections import deque\n",
    "q = deque()\n",
    "q = [1,2,3,4,5]\n",
    "q.pop()\n",
    "q.pop()\n",
    "q"
   ]
  },
  {
   "cell_type": "code",
   "execution_count": 12,
   "id": "b6f83691",
   "metadata": {},
   "outputs": [
    {
     "name": "stdout",
     "output_type": "stream",
     "text": [
      "7\n"
     ]
    }
   ],
   "source": [
    "from collections import deque\n",
    "K = int(input())\n",
    "q = deque()\n",
    "\n",
    "for _ in range(K):\n",
    "    num = int(input())\n",
    "    if num != 0:\n",
    "        q.append(num)\n",
    "    else:\n",
    "        q.pop()\n",
    "print(sum(q))"
   ]
  },
  {
   "cell_type": "code",
   "execution_count": 8,
   "id": "2c45260f",
   "metadata": {},
   "outputs": [
    {
     "data": {
      "text/plain": [
       "[1, 2, 3, 4]"
      ]
     },
     "execution_count": 8,
     "metadata": {},
     "output_type": "execute_result"
    }
   ],
   "source": [
    "a = [1,2,3]\n",
    "a.append(4)\n",
    "a"
   ]
  },
  {
   "cell_type": "code",
   "execution_count": 6,
   "id": "f8cdbadb",
   "metadata": {},
   "outputs": [
    {
     "data": {
      "text/plain": [
       "100"
      ]
     },
     "execution_count": 6,
     "metadata": {},
     "output_type": "execute_result"
    }
   ],
   "source": [
    "def aas(x,y):\n",
    "    a = x+y\n",
    "    b = x*y\n",
    "    return a, b\n",
    "a,b = aas(10,10)\n",
    "b"
   ]
  },
  {
   "cell_type": "code",
   "execution_count": 19,
   "id": "32c35c53",
   "metadata": {},
   "outputs": [
    {
     "name": "stdout",
     "output_type": "stream",
     "text": [
      "1\n",
      "3\n",
      "5\n",
      "7\n",
      "9\n",
      "20\n",
      "31\n",
      "42\n",
      "53\n",
      "64\n",
      "75\n",
      "86\n",
      "97\n",
      "108\n",
      "110\n",
      "121\n",
      "132\n",
      "143\n",
      "154\n",
      "165\n",
      "176\n",
      "187\n",
      "198\n",
      "209\n",
      "211\n",
      "222\n",
      "233\n",
      "244\n",
      "255\n",
      "266\n",
      "277\n",
      "288\n",
      "299\n",
      "310\n",
      "312\n",
      "323\n",
      "334\n",
      "345\n",
      "356\n",
      "367\n",
      "378\n",
      "389\n",
      "400\n",
      "411\n",
      "413\n",
      "424\n",
      "435\n",
      "446\n",
      "457\n",
      "468\n",
      "479\n",
      "490\n",
      "501\n",
      "512\n",
      "514\n",
      "525\n",
      "536\n",
      "547\n",
      "558\n",
      "569\n",
      "580\n",
      "591\n",
      "602\n",
      "613\n",
      "615\n",
      "626\n",
      "637\n",
      "648\n",
      "659\n",
      "670\n",
      "681\n",
      "692\n",
      "703\n",
      "714\n",
      "716\n",
      "727\n",
      "738\n",
      "749\n",
      "760\n",
      "771\n",
      "782\n",
      "793\n",
      "804\n",
      "815\n",
      "817\n",
      "828\n",
      "839\n",
      "850\n",
      "861\n",
      "872\n",
      "883\n",
      "894\n",
      "905\n",
      "916\n",
      "918\n",
      "929\n",
      "940\n",
      "951\n",
      "962\n",
      "973\n",
      "984\n",
      "995\n",
      "1006\n",
      "1021\n",
      "1032\n",
      "1043\n",
      "1054\n",
      "1065\n",
      "1076\n",
      "1087\n",
      "1098\n",
      "1109\n",
      "1111\n",
      "1122\n",
      "1133\n",
      "1144\n",
      "1155\n",
      "1166\n",
      "1177\n",
      "1188\n",
      "1199\n",
      "1210\n",
      "1212\n",
      "1223\n",
      "1234\n",
      "1245\n",
      "1256\n",
      "1267\n",
      "1278\n",
      "1289\n",
      "1300\n",
      "1311\n",
      "1313\n",
      "1324\n",
      "1335\n",
      "1346\n",
      "1357\n",
      "1368\n",
      "1379\n",
      "1390\n",
      "1401\n",
      "1412\n",
      "1414\n",
      "1425\n",
      "1436\n",
      "1447\n",
      "1458\n",
      "1469\n",
      "1480\n",
      "1491\n",
      "1502\n",
      "1513\n",
      "1515\n",
      "1526\n",
      "1537\n",
      "1548\n",
      "1559\n",
      "1570\n",
      "1581\n",
      "1592\n",
      "1603\n",
      "1614\n",
      "1616\n",
      "1627\n",
      "1638\n",
      "1649\n",
      "1660\n",
      "1671\n",
      "1682\n",
      "1693\n",
      "1704\n",
      "1715\n",
      "1717\n",
      "1728\n",
      "1739\n",
      "1750\n",
      "1761\n",
      "1772\n",
      "1783\n",
      "1794\n",
      "1805\n",
      "1816\n",
      "1818\n",
      "1829\n",
      "1840\n",
      "1851\n",
      "1862\n",
      "1873\n",
      "1884\n",
      "1895\n",
      "1906\n",
      "1917\n",
      "1919\n",
      "1930\n",
      "1941\n",
      "1952\n",
      "1963\n",
      "1974\n",
      "1985\n",
      "1996\n",
      "2007\n",
      "2022\n",
      "2033\n",
      "2044\n",
      "2055\n",
      "2066\n",
      "2077\n",
      "2088\n",
      "2099\n",
      "2110\n",
      "2112\n",
      "2123\n",
      "2134\n",
      "2145\n",
      "2156\n",
      "2167\n",
      "2178\n",
      "2189\n",
      "2200\n",
      "2211\n",
      "2213\n",
      "2224\n",
      "2235\n",
      "2246\n",
      "2257\n",
      "2268\n",
      "2279\n",
      "2290\n",
      "2301\n",
      "2312\n",
      "2314\n",
      "2325\n",
      "2336\n",
      "2347\n",
      "2358\n",
      "2369\n",
      "2380\n",
      "2391\n",
      "2402\n",
      "2413\n",
      "2415\n",
      "2426\n",
      "2437\n",
      "2448\n",
      "2459\n",
      "2470\n",
      "2481\n",
      "2492\n",
      "2503\n",
      "2514\n",
      "2516\n",
      "2527\n",
      "2538\n",
      "2549\n",
      "2560\n",
      "2571\n",
      "2582\n",
      "2593\n",
      "2604\n",
      "2615\n",
      "2617\n",
      "2628\n",
      "2639\n",
      "2650\n",
      "2661\n",
      "2672\n",
      "2683\n",
      "2694\n",
      "2705\n",
      "2716\n",
      "2718\n",
      "2729\n",
      "2740\n",
      "2751\n",
      "2762\n",
      "2773\n",
      "2784\n",
      "2795\n",
      "2806\n",
      "2817\n",
      "2819\n",
      "2830\n",
      "2841\n",
      "2852\n",
      "2863\n",
      "2874\n",
      "2885\n",
      "2896\n",
      "2907\n",
      "2918\n",
      "2920\n",
      "2931\n",
      "2942\n",
      "2953\n",
      "2964\n",
      "2975\n",
      "2986\n",
      "2997\n",
      "3008\n",
      "3023\n",
      "3034\n",
      "3045\n",
      "3056\n",
      "3067\n",
      "3078\n",
      "3089\n",
      "3100\n",
      "3111\n",
      "3113\n",
      "3124\n",
      "3135\n",
      "3146\n",
      "3157\n",
      "3168\n",
      "3179\n",
      "3190\n",
      "3201\n",
      "3212\n",
      "3214\n",
      "3225\n",
      "3236\n",
      "3247\n",
      "3258\n",
      "3269\n",
      "3280\n",
      "3291\n",
      "3302\n",
      "3313\n",
      "3315\n",
      "3326\n",
      "3337\n",
      "3348\n",
      "3359\n",
      "3370\n",
      "3381\n",
      "3392\n",
      "3403\n",
      "3414\n",
      "3416\n",
      "3427\n",
      "3438\n",
      "3449\n",
      "3460\n",
      "3471\n",
      "3482\n",
      "3493\n",
      "3504\n",
      "3515\n",
      "3517\n",
      "3528\n",
      "3539\n",
      "3550\n",
      "3561\n",
      "3572\n",
      "3583\n",
      "3594\n",
      "3605\n",
      "3616\n",
      "3618\n",
      "3629\n",
      "3640\n",
      "3651\n",
      "3662\n",
      "3673\n",
      "3684\n",
      "3695\n",
      "3706\n",
      "3717\n",
      "3719\n",
      "3730\n",
      "3741\n",
      "3752\n",
      "3763\n",
      "3774\n",
      "3785\n",
      "3796\n",
      "3807\n",
      "3818\n",
      "3820\n",
      "3831\n",
      "3842\n",
      "3853\n",
      "3864\n",
      "3875\n",
      "3886\n",
      "3897\n",
      "3908\n",
      "3919\n",
      "3921\n",
      "3932\n",
      "3943\n",
      "3954\n",
      "3965\n",
      "3976\n",
      "3987\n",
      "3998\n",
      "4009\n",
      "4024\n",
      "4035\n",
      "4046\n",
      "4057\n",
      "4068\n",
      "4079\n",
      "4090\n",
      "4101\n",
      "4112\n",
      "4114\n",
      "4125\n",
      "4136\n",
      "4147\n",
      "4158\n",
      "4169\n",
      "4180\n",
      "4191\n",
      "4202\n",
      "4213\n",
      "4215\n",
      "4226\n",
      "4237\n",
      "4248\n",
      "4259\n",
      "4270\n",
      "4281\n",
      "4292\n",
      "4303\n",
      "4314\n",
      "4316\n",
      "4327\n",
      "4338\n",
      "4349\n",
      "4360\n",
      "4371\n",
      "4382\n",
      "4393\n",
      "4404\n",
      "4415\n",
      "4417\n",
      "4428\n",
      "4439\n",
      "4450\n",
      "4461\n",
      "4472\n",
      "4483\n",
      "4494\n",
      "4505\n",
      "4516\n",
      "4518\n",
      "4529\n",
      "4540\n",
      "4551\n",
      "4562\n",
      "4573\n",
      "4584\n",
      "4595\n",
      "4606\n",
      "4617\n",
      "4619\n",
      "4630\n",
      "4641\n",
      "4652\n",
      "4663\n",
      "4674\n",
      "4685\n",
      "4696\n",
      "4707\n",
      "4718\n",
      "4720\n",
      "4731\n",
      "4742\n",
      "4753\n",
      "4764\n",
      "4775\n",
      "4786\n",
      "4797\n",
      "4808\n",
      "4819\n",
      "4821\n",
      "4832\n",
      "4843\n",
      "4854\n",
      "4865\n",
      "4876\n",
      "4887\n",
      "4898\n",
      "4909\n",
      "4920\n",
      "4922\n",
      "4933\n",
      "4944\n",
      "4955\n",
      "4966\n",
      "4977\n",
      "4988\n",
      "4999\n",
      "5010\n",
      "5025\n",
      "5036\n",
      "5047\n",
      "5058\n",
      "5069\n",
      "5080\n",
      "5091\n",
      "5102\n",
      "5113\n",
      "5115\n",
      "5126\n",
      "5137\n",
      "5148\n",
      "5159\n",
      "5170\n",
      "5181\n",
      "5192\n",
      "5203\n",
      "5214\n",
      "5216\n",
      "5227\n",
      "5238\n",
      "5249\n",
      "5260\n",
      "5271\n",
      "5282\n",
      "5293\n",
      "5304\n",
      "5315\n",
      "5317\n",
      "5328\n",
      "5339\n",
      "5350\n",
      "5361\n",
      "5372\n",
      "5383\n",
      "5394\n",
      "5405\n",
      "5416\n",
      "5418\n",
      "5429\n",
      "5440\n",
      "5451\n",
      "5462\n",
      "5473\n",
      "5484\n",
      "5495\n",
      "5506\n",
      "5517\n",
      "5519\n",
      "5530\n",
      "5541\n",
      "5552\n",
      "5563\n",
      "5574\n",
      "5585\n",
      "5596\n",
      "5607\n",
      "5618\n",
      "5620\n",
      "5631\n",
      "5642\n",
      "5653\n",
      "5664\n",
      "5675\n",
      "5686\n",
      "5697\n",
      "5708\n",
      "5719\n",
      "5721\n",
      "5732\n",
      "5743\n",
      "5754\n",
      "5765\n",
      "5776\n",
      "5787\n",
      "5798\n",
      "5809\n",
      "5820\n",
      "5822\n",
      "5833\n",
      "5844\n",
      "5855\n",
      "5866\n",
      "5877\n",
      "5888\n",
      "5899\n",
      "5910\n",
      "5921\n",
      "5923\n",
      "5934\n",
      "5945\n",
      "5956\n",
      "5967\n",
      "5978\n",
      "5989\n",
      "6000\n",
      "6011\n",
      "6026\n",
      "6037\n",
      "6048\n",
      "6059\n",
      "6070\n",
      "6081\n",
      "6092\n",
      "6103\n",
      "6114\n",
      "6116\n",
      "6127\n",
      "6138\n",
      "6149\n",
      "6160\n",
      "6171\n",
      "6182\n",
      "6193\n",
      "6204\n",
      "6215\n",
      "6217\n",
      "6228\n",
      "6239\n",
      "6250\n",
      "6261\n",
      "6272\n",
      "6283\n",
      "6294\n",
      "6305\n",
      "6316\n",
      "6318\n",
      "6329\n",
      "6340\n",
      "6351\n",
      "6362\n",
      "6373\n",
      "6384\n",
      "6395\n",
      "6406\n",
      "6417\n",
      "6419\n",
      "6430\n",
      "6441\n",
      "6452\n",
      "6463\n",
      "6474\n",
      "6485\n",
      "6496\n",
      "6507\n",
      "6518\n",
      "6520\n",
      "6531\n",
      "6542\n",
      "6553\n",
      "6564\n",
      "6575\n",
      "6586\n",
      "6597\n",
      "6608\n",
      "6619\n",
      "6621\n",
      "6632\n",
      "6643\n",
      "6654\n",
      "6665\n",
      "6676\n",
      "6687\n",
      "6698\n",
      "6709\n",
      "6720\n",
      "6722\n",
      "6733\n",
      "6744\n",
      "6755\n",
      "6766\n",
      "6777\n",
      "6788\n",
      "6799\n",
      "6810\n",
      "6821\n",
      "6823\n",
      "6834\n",
      "6845\n",
      "6856\n",
      "6867\n",
      "6878\n",
      "6889\n",
      "6900\n",
      "6911\n",
      "6922\n",
      "6924\n",
      "6935\n",
      "6946\n",
      "6957\n",
      "6968\n",
      "6979\n",
      "6990\n",
      "7001\n",
      "7012\n",
      "7027\n",
      "7038\n",
      "7049\n",
      "7060\n",
      "7071\n",
      "7082\n",
      "7093\n",
      "7104\n",
      "7115\n",
      "7117\n",
      "7128\n",
      "7139\n",
      "7150\n",
      "7161\n",
      "7172\n",
      "7183\n",
      "7194\n",
      "7205\n",
      "7216\n",
      "7218\n",
      "7229\n",
      "7240\n",
      "7251\n",
      "7262\n",
      "7273\n",
      "7284\n",
      "7295\n",
      "7306\n",
      "7317\n",
      "7319\n",
      "7330\n",
      "7341\n",
      "7352\n",
      "7363\n",
      "7374\n",
      "7385\n",
      "7396\n",
      "7407\n",
      "7418\n",
      "7420\n",
      "7431\n",
      "7442\n",
      "7453\n",
      "7464\n",
      "7475\n",
      "7486\n",
      "7497\n",
      "7508\n",
      "7519\n",
      "7521\n",
      "7532\n",
      "7543\n",
      "7554\n",
      "7565\n",
      "7576\n",
      "7587\n",
      "7598\n",
      "7609\n",
      "7620\n",
      "7622\n",
      "7633\n",
      "7644\n",
      "7655\n",
      "7666\n",
      "7677\n",
      "7688\n",
      "7699\n",
      "7710\n",
      "7721\n",
      "7723\n",
      "7734\n",
      "7745\n",
      "7756\n",
      "7767\n",
      "7778\n",
      "7789\n",
      "7800\n",
      "7811\n",
      "7822\n",
      "7824\n",
      "7835\n",
      "7846\n",
      "7857\n",
      "7868\n",
      "7879\n",
      "7890\n",
      "7901\n",
      "7912\n",
      "7923\n",
      "7925\n",
      "7936\n",
      "7947\n",
      "7958\n",
      "7969\n",
      "7980\n",
      "7991\n",
      "8002\n",
      "8013\n",
      "8028\n",
      "8039\n",
      "8050\n",
      "8061\n",
      "8072\n",
      "8083\n",
      "8094\n",
      "8105\n",
      "8116\n",
      "8118\n",
      "8129\n",
      "8140\n",
      "8151\n",
      "8162\n",
      "8173\n",
      "8184\n",
      "8195\n",
      "8206\n",
      "8217\n",
      "8219\n",
      "8230\n",
      "8241\n",
      "8252\n",
      "8263\n",
      "8274\n",
      "8285\n",
      "8296\n",
      "8307\n",
      "8318\n",
      "8320\n",
      "8331\n",
      "8342\n",
      "8353\n",
      "8364\n",
      "8375\n",
      "8386\n",
      "8397\n",
      "8408\n",
      "8419\n",
      "8421\n",
      "8432\n",
      "8443\n",
      "8454\n",
      "8465\n",
      "8476\n",
      "8487\n",
      "8498\n",
      "8509\n",
      "8520\n",
      "8522\n",
      "8533\n",
      "8544\n",
      "8555\n",
      "8566\n",
      "8577\n",
      "8588\n",
      "8599\n",
      "8610\n",
      "8621\n",
      "8623\n",
      "8634\n",
      "8645\n",
      "8656\n",
      "8667\n",
      "8678\n",
      "8689\n",
      "8700\n",
      "8711\n",
      "8722\n",
      "8724\n",
      "8735\n",
      "8746\n",
      "8757\n",
      "8768\n",
      "8779\n",
      "8790\n",
      "8801\n",
      "8812\n",
      "8823\n",
      "8825\n",
      "8836\n",
      "8847\n",
      "8858\n",
      "8869\n",
      "8880\n",
      "8891\n",
      "8902\n",
      "8913\n",
      "8924\n",
      "8926\n",
      "8937\n",
      "8948\n",
      "8959\n",
      "8970\n",
      "8981\n",
      "8992\n",
      "9003\n",
      "9014\n",
      "9029\n",
      "9040\n",
      "9051\n",
      "9062\n",
      "9073\n",
      "9084\n",
      "9095\n",
      "9106\n",
      "9117\n",
      "9119\n",
      "9130\n",
      "9141\n",
      "9152\n",
      "9163\n",
      "9174\n",
      "9185\n",
      "9196\n",
      "9207\n",
      "9218\n",
      "9220\n",
      "9231\n",
      "9242\n",
      "9253\n",
      "9264\n",
      "9275\n",
      "9286\n",
      "9297\n",
      "9308\n",
      "9319\n",
      "9321\n",
      "9332\n",
      "9343\n",
      "9354\n",
      "9365\n",
      "9376\n",
      "9387\n",
      "9398\n",
      "9409\n",
      "9420\n",
      "9422\n",
      "9433\n",
      "9444\n",
      "9455\n",
      "9466\n",
      "9477\n",
      "9488\n",
      "9499\n",
      "9510\n",
      "9521\n",
      "9523\n",
      "9534\n",
      "9545\n",
      "9556\n",
      "9567\n",
      "9578\n",
      "9589\n",
      "9600\n",
      "9611\n",
      "9622\n",
      "9624\n",
      "9635\n",
      "9646\n",
      "9657\n",
      "9668\n",
      "9679\n",
      "9690\n",
      "9701\n",
      "9712\n",
      "9723\n",
      "9725\n",
      "9736\n",
      "9747\n",
      "9758\n",
      "9769\n",
      "9780\n",
      "9791\n",
      "9802\n",
      "9813\n",
      "9824\n",
      "9826\n",
      "9837\n",
      "9848\n",
      "9859\n",
      "9870\n",
      "9881\n",
      "9892\n",
      "9903\n",
      "9914\n",
      "9925\n",
      "9927\n",
      "9938\n",
      "9949\n",
      "9960\n",
      "9971\n",
      "9982\n",
      "9993\n"
     ]
    }
   ],
   "source": [
    "def self_number(n):\n",
    "    b = int(n)\n",
    "    for i in range(len(str(n))):\n",
    "        b += int(str(n)[i]) \n",
    "    return b\n",
    "\n",
    "result = []\n",
    "for i in range(1,10001):\n",
    "    result.append(self_number(i))\n",
    "    if i not in result:\n",
    "        print(i)"
   ]
  },
  {
   "cell_type": "code",
   "execution_count": 15,
   "id": "46b126c5",
   "metadata": {},
   "outputs": [
    {
     "name": "stdout",
     "output_type": "stream",
     "text": [
      "1\n",
      "2\n",
      "5\n"
     ]
    }
   ],
   "source": [
    "from collections import deque\n",
    "T  = int(input())\n",
    "\n",
    "for _ in range(T):\n",
    "    N,M = map(int, input().split())\n",
    "    importance = deque(map(int, input().split()))\n",
    "    idx = deque(range(N))\n",
    "    cnt = 0\n",
    "\n",
    "    while importance:\n",
    "        if importance[0] == max(importance):\n",
    "            importance.popleft()\n",
    "            cnt += 1\n",
    "\n",
    "            if idx.popleft() == M:\n",
    "                print(cnt)\n",
    "        else:\n",
    "            importance.append(importance.popleft())\n",
    "            idx.append(idx.popleft())\n"
   ]
  },
  {
   "cell_type": "code",
   "execution_count": 12,
   "id": "f9151d20",
   "metadata": {},
   "outputs": [
    {
     "name": "stdout",
     "output_type": "stream",
     "text": [
      "13\n"
     ]
    }
   ],
   "source": [
    "import sys\n",
    "from collections import deque\n",
    "N = int(sys.stdin.readline())\n",
    "delete = round(N * 0.15)\n",
    "\n",
    "level = []\n",
    "for _ in range(N):\n",
    "    level.append(int(sys.stdin.readline()))\n",
    "    level.sort()\n",
    "if len(level) == False:\n",
    "    print(0)\n",
    "else:\n",
    "    level = deque(level)\n",
    "    for _ in range(delete):\n",
    "        level.pop()\n",
    "        level.popleft()\n",
    "    print(round(sum(level)/len(level)))"
   ]
  },
  {
   "cell_type": "code",
   "execution_count": 35,
   "id": "c49bad5b",
   "metadata": {},
   "outputs": [
    {
     "name": "stdout",
     "output_type": "stream",
     "text": [
      "deque([1, 5, 5, 7, 8])\n",
      "6\n"
     ]
    }
   ],
   "source": [
    "import sys\n",
    "from collections import deque\n",
    "def my_round(x):\n",
    "    return int(x) + 1 if x - int(x) >= 0.5 else int(x)\n",
    "\n",
    "N = int(sys.stdin.readline())\n",
    "\n",
    "level = []\n",
    "\n",
    "for _ in range(N):\n",
    "    level.append(int(sys.stdin.readline()))\n",
    "if N == 0:\n",
    "    print(0)\n",
    "else:\n",
    "    delete = my_round(N * 0.15)\n",
    "    level.sort()\n",
    "    level = deque(level)\n",
    "    for _ in range(delete):\n",
    "        level.pop()\n",
    "        level.popleft()\n",
    "    print(my_round(sum(level) / (N - 2*delete)))"
   ]
  },
  {
   "cell_type": "code",
   "execution_count": 38,
   "id": "a72226e7",
   "metadata": {},
   "outputs": [
    {
     "name": "stdout",
     "output_type": "stream",
     "text": [
      "7\n",
      "8\n",
      "10\n",
      "13\n",
      "19\n",
      "20\n",
      "23\n"
     ]
    }
   ],
   "source": [
    "temp = []\n",
    "for _ in range(9):\n",
    "    temp.append(int(input()))\n",
    "for i in range(9):\n",
    "    for j in range(i+1, 9):\n",
    "        if sum(temp)-temp[i]-temp[j] == 100:\n",
    "            delete1 = temp[i]\n",
    "            delete2 = temp[j]\n",
    "temp.remove(delete1)\n",
    "temp.remove(delete2)\n",
    "for i in sorted(temp):\n",
    "    print(i)"
   ]
  },
  {
   "cell_type": "code",
   "execution_count": 21,
   "id": "13824fd4",
   "metadata": {},
   "outputs": [
    {
     "name": "stdout",
     "output_type": "stream",
     "text": [
      "0 0\n"
     ]
    }
   ],
   "source": [
    "cur = list(map(int, input().split()))\n",
    "time = int(input())\n",
    "\n",
    "h = cur[0] + (time//60)\n",
    "m = cur[1] + (time%60)\n",
    "if m >= 60:\n",
    "    m %= 60\n",
    "    h+=1\n",
    "if h >= 24:\n",
    "    h %= 24\n",
    "print(h,m)"
   ]
  },
  {
   "cell_type": "code",
   "execution_count": 19,
   "id": "180b0ced",
   "metadata": {},
   "outputs": [
    {
     "name": "stdout",
     "output_type": "stream",
     "text": [
      "[1, 2, 3, 3, 4]\n",
      "32\n"
     ]
    }
   ],
   "source": [
    "N = int(input())\n",
    "a = sorted(list(map(int, input().split())))\n",
    "result = 0\n",
    "\n",
    "for i in range(1, N+1):\n",
    "    result += sum(a[:i])\n",
    "print(result)"
   ]
  },
  {
   "cell_type": "code",
   "execution_count": 15,
   "id": "933ebbaa",
   "metadata": {},
   "outputs": [
    {
     "name": "stdout",
     "output_type": "stream",
     "text": [
      "TUE\n"
     ]
    }
   ],
   "source": [
    "m,n = map(int, input().split())\n",
    "\n",
    "month = [0, 31, 28, 31, 30, 31, 30,31, 31, 30, 31, 30, 31]\n",
    "day = ['SUN', 'MON', 'TUE', 'WED', 'THU', 'FRI', 'SAT']\n",
    "\n",
    "temp = (sum(month[:m]) + n) % 7\n",
    "print(day[temp])"
   ]
  },
  {
   "cell_type": "code",
   "execution_count": null,
   "id": "1ed86312",
   "metadata": {},
   "outputs": [],
   "source": [
    "N,C = map(int, input().split())\n",
    "houses = []\n",
    "for _ in range(N):\n",
    "    houses.append(int(input()))\n",
    "houses.sort()\n",
    "print(houses)"
   ]
  },
  {
   "cell_type": "code",
   "execution_count": null,
   "id": "0d209652",
   "metadata": {},
   "outputs": [],
   "source": []
  },
  {
   "cell_type": "code",
   "execution_count": null,
   "id": "822380a5",
   "metadata": {},
   "outputs": [],
   "source": []
  }
 ],
 "metadata": {
  "kernelspec": {
   "display_name": "qwer",
   "language": "python",
   "name": "python3"
  },
  "language_info": {
   "codemirror_mode": {
    "name": "ipython",
    "version": 3
   },
   "file_extension": ".py",
   "mimetype": "text/x-python",
   "name": "python",
   "nbconvert_exporter": "python",
   "pygments_lexer": "ipython3",
   "version": "3.8.16"
  },
  "vscode": {
   "interpreter": {
    "hash": "dbbd3b39b900115f7cf31237ff8210bdb3be6d72cc38b56cf66619343898ad64"
   }
  }
 },
 "nbformat": 4,
 "nbformat_minor": 5
}
